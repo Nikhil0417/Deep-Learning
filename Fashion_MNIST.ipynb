{
  "nbformat": 4,
  "nbformat_minor": 0,
  "metadata": {
    "colab": {
      "name": "Fashion_MNIST.ipynb",
      "provenance": [],
      "collapsed_sections": [],
      "authorship_tag": "ABX9TyOPdisVOw8x0A7v0Qbk7+iE",
      "include_colab_link": true
    },
    "kernelspec": {
      "name": "python3",
      "display_name": "Python 3"
    }
  },
  "cells": [
    {
      "cell_type": "markdown",
      "metadata": {
        "id": "view-in-github",
        "colab_type": "text"
      },
      "source": [
        "<a href=\"https://colab.research.google.com/github/Nikhil0417/Deep-Learning/blob/master/Fashion_MNIST.ipynb\" target=\"_parent\"><img src=\"https://colab.research.google.com/assets/colab-badge.svg\" alt=\"Open In Colab\"/></a>"
      ]
    },
    {
      "cell_type": "code",
      "metadata": {
        "id": "PErU_6u0OH52",
        "colab_type": "code",
        "colab": {
          "base_uri": "https://localhost:8080/",
          "height": 34
        },
        "outputId": "9efab20a-487b-4e73-c175-e885d3e37786"
      },
      "source": [
        "%tensorflow_version 2.x\n",
        "import tensorflow as tf\n",
        "print(tf.version)"
      ],
      "execution_count": 1,
      "outputs": [
        {
          "output_type": "stream",
          "text": [
            "<module 'tensorflow._api.v2.version' from '/usr/local/lib/python3.6/dist-packages/tensorflow/_api/v2/version/__init__.py'>\n"
          ],
          "name": "stdout"
        }
      ]
    },
    {
      "cell_type": "code",
      "metadata": {
        "id": "OEegVYhFORzL",
        "colab_type": "code",
        "colab": {
          "base_uri": "https://localhost:8080/",
          "height": 34
        },
        "outputId": "ed04cb0b-94e9-43af-8e92-6af2528081d5"
      },
      "source": [
        "from tensorflow import keras\n",
        "print(keras.__version__)"
      ],
      "execution_count": 2,
      "outputs": [
        {
          "output_type": "stream",
          "text": [
            "2.3.0-tf\n"
          ],
          "name": "stdout"
        }
      ]
    },
    {
      "cell_type": "code",
      "metadata": {
        "id": "SBNk7GcDlLal",
        "colab_type": "code",
        "colab": {
          "base_uri": "https://localhost:8080/",
          "height": 153
        },
        "outputId": "225fc0e8-8569-42a7-9a94-11c5403107a8"
      },
      "source": [
        "fashion_mnist = keras.datasets.fashion_mnist\n",
        "(X_train_full, y_train_full), (X_test, y_test) = fashion_mnist.load_data()"
      ],
      "execution_count": 3,
      "outputs": [
        {
          "output_type": "stream",
          "text": [
            "Downloading data from https://storage.googleapis.com/tensorflow/tf-keras-datasets/train-labels-idx1-ubyte.gz\n",
            "32768/29515 [=================================] - 0s 0us/step\n",
            "Downloading data from https://storage.googleapis.com/tensorflow/tf-keras-datasets/train-images-idx3-ubyte.gz\n",
            "26427392/26421880 [==============================] - 0s 0us/step\n",
            "Downloading data from https://storage.googleapis.com/tensorflow/tf-keras-datasets/t10k-labels-idx1-ubyte.gz\n",
            "8192/5148 [===============================================] - 0s 0us/step\n",
            "Downloading data from https://storage.googleapis.com/tensorflow/tf-keras-datasets/t10k-images-idx3-ubyte.gz\n",
            "4423680/4422102 [==============================] - 0s 0us/step\n"
          ],
          "name": "stdout"
        }
      ]
    },
    {
      "cell_type": "code",
      "metadata": {
        "id": "kNKInn582G-H",
        "colab_type": "code",
        "colab": {
          "base_uri": "https://localhost:8080/",
          "height": 34
        },
        "outputId": "75eef2fe-8826-4e7f-ed74-28f03ee90d4e"
      },
      "source": [
        "X_train_full.shape, y_train_full.shape, X_test.shape, y_test.shape"
      ],
      "execution_count": 4,
      "outputs": [
        {
          "output_type": "execute_result",
          "data": {
            "text/plain": [
              "((60000, 28, 28), (60000,), (10000, 28, 28), (10000,))"
            ]
          },
          "metadata": {
            "tags": []
          },
          "execution_count": 4
        }
      ]
    },
    {
      "cell_type": "code",
      "metadata": {
        "id": "m1Lw0e3m2L-V",
        "colab_type": "code",
        "colab": {}
      },
      "source": [
        "X_train, X_validation = X_train_full[:50000]/255.0, X_train_full[50000:]/255.0\n",
        "y_train, Y_validation = y_train_full[:50000], y_train_full[50000:]\n",
        "X_test = X_test/255.0"
      ],
      "execution_count": 7,
      "outputs": []
    },
    {
      "cell_type": "code",
      "metadata": {
        "id": "Iw63KNAprX0m",
        "colab_type": "code",
        "colab": {}
      },
      "source": [
        "class_names = [\"T-shirt/top\", \"Trouser\", \"Pullover\", \"Dress\", \"Coat\",\n",
        "               \"Sandal\", \"Shirt\", \"Sneaker\", \"Bag\", \"Ankle boot\"]"
      ],
      "execution_count": 8,
      "outputs": []
    },
    {
      "cell_type": "code",
      "metadata": {
        "id": "Y3uHqwvIsubB",
        "colab_type": "code",
        "colab": {
          "base_uri": "https://localhost:8080/",
          "height": 35
        },
        "outputId": "99b6111f-68c3-4ff7-b74f-77af9a2bc2d9"
      },
      "source": [
        "class_names[y_train[0]]"
      ],
      "execution_count": 9,
      "outputs": [
        {
          "output_type": "execute_result",
          "data": {
            "application/vnd.google.colaboratory.intrinsic+json": {
              "type": "string"
            },
            "text/plain": [
              "'Ankle boot'"
            ]
          },
          "metadata": {
            "tags": []
          },
          "execution_count": 9
        }
      ]
    },
    {
      "cell_type": "code",
      "metadata": {
        "id": "50h6CFa1szxK",
        "colab_type": "code",
        "colab": {}
      },
      "source": [
        "model = keras.models.Sequential()\n",
        "model.add(keras.layers.Flatten(input_shape=[28,28]))\n",
        "model.add(keras.layers.Dense(300, 'relu'))\n",
        "model.add(keras.layers.Dense(300, 'relu'))\n",
        "model.add(keras.layers.Dense(10, 'softmax'))"
      ],
      "execution_count": 12,
      "outputs": []
    },
    {
      "cell_type": "code",
      "metadata": {
        "id": "QUKUjXT2tkSE",
        "colab_type": "code",
        "colab": {}
      },
      "source": [
        "model.compile(loss='sparse_categorical_crossentropy', optimizer='sgd',metrics=[\"accuracy\"])"
      ],
      "execution_count": 15,
      "outputs": []
    },
    {
      "cell_type": "code",
      "metadata": {
        "id": "N7R0TWkFueCT",
        "colab_type": "code",
        "colab": {
          "base_uri": "https://localhost:8080/",
          "height": 289
        },
        "outputId": "8238ecf7-4774-411a-c5a5-b521fea129cc"
      },
      "source": [
        "model.summary()"
      ],
      "execution_count": 16,
      "outputs": [
        {
          "output_type": "stream",
          "text": [
            "Model: \"sequential_1\"\n",
            "_________________________________________________________________\n",
            "Layer (type)                 Output Shape              Param #   \n",
            "=================================================================\n",
            "flatten (Flatten)            (None, 784)               0         \n",
            "_________________________________________________________________\n",
            "dense (Dense)                (None, 300)               235500    \n",
            "_________________________________________________________________\n",
            "dense_1 (Dense)              (None, 300)               90300     \n",
            "_________________________________________________________________\n",
            "dense_2 (Dense)              (None, 10)                3010      \n",
            "=================================================================\n",
            "Total params: 328,810\n",
            "Trainable params: 328,810\n",
            "Non-trainable params: 0\n",
            "_________________________________________________________________\n"
          ],
          "name": "stdout"
        }
      ]
    },
    {
      "cell_type": "code",
      "metadata": {
        "id": "pMp_iUkouonU",
        "colab_type": "code",
        "colab": {}
      },
      "source": [
        "l = model.layers"
      ],
      "execution_count": 17,
      "outputs": []
    },
    {
      "cell_type": "code",
      "metadata": {
        "id": "XiUhkOmYusPi",
        "colab_type": "code",
        "colab": {
          "base_uri": "https://localhost:8080/",
          "height": 34
        },
        "outputId": "ffe38ebe-c300-4f27-b4ea-2c95b6fd7054"
      },
      "source": [
        "l[0]"
      ],
      "execution_count": 18,
      "outputs": [
        {
          "output_type": "execute_result",
          "data": {
            "text/plain": [
              "<tensorflow.python.keras.layers.core.Flatten at 0x7f4516c1f470>"
            ]
          },
          "metadata": {
            "tags": []
          },
          "execution_count": 18
        }
      ]
    },
    {
      "cell_type": "code",
      "metadata": {
        "id": "UXmmwnXButb1",
        "colab_type": "code",
        "colab": {}
      },
      "source": [
        "weights, biases = l[1].get_weights()"
      ],
      "execution_count": 21,
      "outputs": []
    },
    {
      "cell_type": "code",
      "metadata": {
        "id": "Dd4ZjB5uuxCQ",
        "colab_type": "code",
        "colab": {
          "base_uri": "https://localhost:8080/",
          "height": 238
        },
        "outputId": "0516e0ef-f8fe-4006-b4aa-bb6dcb0359ad"
      },
      "source": [
        "weights"
      ],
      "execution_count": 22,
      "outputs": [
        {
          "output_type": "execute_result",
          "data": {
            "text/plain": [
              "array([[ 0.04518321, -0.005192  , -0.02712432, ..., -0.00811218,\n",
              "        -0.04443865, -0.00176747],\n",
              "       [ 0.02117662, -0.04119157, -0.01147109, ..., -0.03583678,\n",
              "         0.02566244, -0.06845032],\n",
              "       [ 0.0024021 , -0.04068159,  0.06762558, ...,  0.04769695,\n",
              "         0.06666358, -0.00716943],\n",
              "       ...,\n",
              "       [-0.03735418,  0.03461762, -0.01882488, ...,  0.03058373,\n",
              "         0.04559806,  0.06103037],\n",
              "       [ 0.03233566,  0.04701709,  0.0699605 , ...,  0.05979992,\n",
              "        -0.02877522,  0.00538564],\n",
              "       [ 0.06512193,  0.03893134,  0.0031122 , ..., -0.0016263 ,\n",
              "         0.03248034,  0.05853234]], dtype=float32)"
            ]
          },
          "metadata": {
            "tags": []
          },
          "execution_count": 22
        }
      ]
    },
    {
      "cell_type": "code",
      "metadata": {
        "id": "nQ6pmn3Cu_zB",
        "colab_type": "code",
        "colab": {
          "base_uri": "https://localhost:8080/",
          "height": 1000
        },
        "outputId": "0bc8226d-af79-433a-b237-a7d8363cc223"
      },
      "source": [
        "#training the model\n",
        "history = model.fit(X_train, y_train, epochs=50, validation_data=(X_validation, Y_validation))"
      ],
      "execution_count": 27,
      "outputs": [
        {
          "output_type": "stream",
          "text": [
            "Epoch 1/50\n",
            "1563/1563 [==============================] - 6s 4ms/step - loss: 0.1657 - accuracy: 0.9413 - val_loss: 0.3337 - val_accuracy: 0.8864\n",
            "Epoch 2/50\n",
            "1563/1563 [==============================] - 6s 4ms/step - loss: 0.1625 - accuracy: 0.9427 - val_loss: 0.3106 - val_accuracy: 0.8921\n",
            "Epoch 3/50\n",
            "1563/1563 [==============================] - 7s 4ms/step - loss: 0.1590 - accuracy: 0.9443 - val_loss: 0.3112 - val_accuracy: 0.8922\n",
            "Epoch 4/50\n",
            "1563/1563 [==============================] - 7s 4ms/step - loss: 0.1563 - accuracy: 0.9453 - val_loss: 0.3165 - val_accuracy: 0.8938\n",
            "Epoch 5/50\n",
            "1563/1563 [==============================] - 6s 4ms/step - loss: 0.1543 - accuracy: 0.9453 - val_loss: 0.3294 - val_accuracy: 0.8900\n",
            "Epoch 6/50\n",
            "1563/1563 [==============================] - 6s 4ms/step - loss: 0.1526 - accuracy: 0.9456 - val_loss: 0.3313 - val_accuracy: 0.8903\n",
            "Epoch 7/50\n",
            "1563/1563 [==============================] - 7s 4ms/step - loss: 0.1491 - accuracy: 0.9469 - val_loss: 0.3128 - val_accuracy: 0.8941\n",
            "Epoch 8/50\n",
            "1563/1563 [==============================] - 6s 4ms/step - loss: 0.1468 - accuracy: 0.9485 - val_loss: 0.3444 - val_accuracy: 0.8875\n",
            "Epoch 9/50\n",
            "1563/1563 [==============================] - 7s 4ms/step - loss: 0.1443 - accuracy: 0.9494 - val_loss: 0.3516 - val_accuracy: 0.8803\n",
            "Epoch 10/50\n",
            "1563/1563 [==============================] - 7s 4ms/step - loss: 0.1422 - accuracy: 0.9506 - val_loss: 0.3277 - val_accuracy: 0.8936\n",
            "Epoch 11/50\n",
            "1563/1563 [==============================] - 7s 4ms/step - loss: 0.1395 - accuracy: 0.9508 - val_loss: 0.3113 - val_accuracy: 0.8941\n",
            "Epoch 12/50\n",
            "1563/1563 [==============================] - 7s 4ms/step - loss: 0.1365 - accuracy: 0.9521 - val_loss: 0.3458 - val_accuracy: 0.8878\n",
            "Epoch 13/50\n",
            "1563/1563 [==============================] - 7s 4ms/step - loss: 0.1351 - accuracy: 0.9521 - val_loss: 0.3336 - val_accuracy: 0.8893\n",
            "Epoch 14/50\n",
            "1563/1563 [==============================] - 7s 4ms/step - loss: 0.1328 - accuracy: 0.9533 - val_loss: 0.3235 - val_accuracy: 0.8939\n",
            "Epoch 15/50\n",
            "1563/1563 [==============================] - 6s 4ms/step - loss: 0.1298 - accuracy: 0.9563 - val_loss: 0.3375 - val_accuracy: 0.8904\n",
            "Epoch 16/50\n",
            "1563/1563 [==============================] - 7s 4ms/step - loss: 0.1288 - accuracy: 0.9556 - val_loss: 0.3336 - val_accuracy: 0.8899\n",
            "Epoch 17/50\n",
            "1563/1563 [==============================] - 6s 4ms/step - loss: 0.1256 - accuracy: 0.9557 - val_loss: 0.3302 - val_accuracy: 0.8925\n",
            "Epoch 18/50\n",
            "1563/1563 [==============================] - 7s 4ms/step - loss: 0.1235 - accuracy: 0.9573 - val_loss: 0.3387 - val_accuracy: 0.8921\n",
            "Epoch 19/50\n",
            "1563/1563 [==============================] - 6s 4ms/step - loss: 0.1216 - accuracy: 0.9582 - val_loss: 0.3720 - val_accuracy: 0.8863\n",
            "Epoch 20/50\n",
            "1563/1563 [==============================] - 6s 4ms/step - loss: 0.1197 - accuracy: 0.9587 - val_loss: 0.3323 - val_accuracy: 0.8928\n",
            "Epoch 21/50\n",
            "1563/1563 [==============================] - 6s 4ms/step - loss: 0.1171 - accuracy: 0.9593 - val_loss: 0.3751 - val_accuracy: 0.8819\n",
            "Epoch 22/50\n",
            "1563/1563 [==============================] - 6s 4ms/step - loss: 0.1144 - accuracy: 0.9596 - val_loss: 0.3386 - val_accuracy: 0.8921\n",
            "Epoch 23/50\n",
            "1563/1563 [==============================] - 7s 5ms/step - loss: 0.1131 - accuracy: 0.9604 - val_loss: 0.3405 - val_accuracy: 0.8910\n",
            "Epoch 24/50\n",
            "1563/1563 [==============================] - 6s 4ms/step - loss: 0.1100 - accuracy: 0.9614 - val_loss: 0.3725 - val_accuracy: 0.8860\n",
            "Epoch 25/50\n",
            "1563/1563 [==============================] - 7s 4ms/step - loss: 0.1089 - accuracy: 0.9620 - val_loss: 0.3409 - val_accuracy: 0.8934\n",
            "Epoch 26/50\n",
            "1563/1563 [==============================] - 7s 5ms/step - loss: 0.1083 - accuracy: 0.9632 - val_loss: 0.3495 - val_accuracy: 0.8916\n",
            "Epoch 27/50\n",
            "1563/1563 [==============================] - 6s 4ms/step - loss: 0.1053 - accuracy: 0.9639 - val_loss: 0.3387 - val_accuracy: 0.8948\n",
            "Epoch 28/50\n",
            "1563/1563 [==============================] - 7s 4ms/step - loss: 0.1027 - accuracy: 0.9652 - val_loss: 0.3771 - val_accuracy: 0.8860\n",
            "Epoch 29/50\n",
            "1563/1563 [==============================] - 6s 4ms/step - loss: 0.1029 - accuracy: 0.9640 - val_loss: 0.3631 - val_accuracy: 0.8917\n",
            "Epoch 30/50\n",
            "1563/1563 [==============================] - 6s 4ms/step - loss: 0.1003 - accuracy: 0.9661 - val_loss: 0.4453 - val_accuracy: 0.8693\n",
            "Epoch 31/50\n",
            "1563/1563 [==============================] - 6s 4ms/step - loss: 0.0992 - accuracy: 0.9660 - val_loss: 0.3637 - val_accuracy: 0.8912\n",
            "Epoch 32/50\n",
            "1563/1563 [==============================] - 7s 5ms/step - loss: 0.0960 - accuracy: 0.9681 - val_loss: 0.3829 - val_accuracy: 0.8830\n",
            "Epoch 33/50\n",
            "1563/1563 [==============================] - 6s 4ms/step - loss: 0.0937 - accuracy: 0.9678 - val_loss: 0.3771 - val_accuracy: 0.8881\n",
            "Epoch 34/50\n",
            "1563/1563 [==============================] - 6s 4ms/step - loss: 0.0929 - accuracy: 0.9686 - val_loss: 0.3885 - val_accuracy: 0.8867\n",
            "Epoch 35/50\n",
            "1563/1563 [==============================] - 7s 4ms/step - loss: 0.0904 - accuracy: 0.9688 - val_loss: 0.3643 - val_accuracy: 0.8894\n",
            "Epoch 36/50\n",
            "1563/1563 [==============================] - 6s 4ms/step - loss: 0.0899 - accuracy: 0.9692 - val_loss: 0.3544 - val_accuracy: 0.8919\n",
            "Epoch 37/50\n",
            "1563/1563 [==============================] - 6s 4ms/step - loss: 0.0879 - accuracy: 0.9706 - val_loss: 0.3512 - val_accuracy: 0.8958\n",
            "Epoch 38/50\n",
            "1563/1563 [==============================] - 6s 4ms/step - loss: 0.0875 - accuracy: 0.9702 - val_loss: 0.4130 - val_accuracy: 0.8829\n",
            "Epoch 39/50\n",
            "1563/1563 [==============================] - 6s 4ms/step - loss: 0.0841 - accuracy: 0.9720 - val_loss: 0.3980 - val_accuracy: 0.8890\n",
            "Epoch 40/50\n",
            "1563/1563 [==============================] - 6s 4ms/step - loss: 0.0837 - accuracy: 0.9726 - val_loss: 0.3951 - val_accuracy: 0.8897\n",
            "Epoch 41/50\n",
            "1563/1563 [==============================] - 6s 4ms/step - loss: 0.0815 - accuracy: 0.9724 - val_loss: 0.3808 - val_accuracy: 0.8897\n",
            "Epoch 42/50\n",
            "1563/1563 [==============================] - 7s 4ms/step - loss: 0.0801 - accuracy: 0.9736 - val_loss: 0.3934 - val_accuracy: 0.8899\n",
            "Epoch 43/50\n",
            "1563/1563 [==============================] - 6s 4ms/step - loss: 0.0773 - accuracy: 0.9740 - val_loss: 0.3884 - val_accuracy: 0.8919\n",
            "Epoch 44/50\n",
            "1563/1563 [==============================] - 7s 5ms/step - loss: 0.0777 - accuracy: 0.9740 - val_loss: 0.3795 - val_accuracy: 0.8926\n",
            "Epoch 45/50\n",
            "1563/1563 [==============================] - 7s 4ms/step - loss: 0.0752 - accuracy: 0.9749 - val_loss: 0.4155 - val_accuracy: 0.8883\n",
            "Epoch 46/50\n",
            "1563/1563 [==============================] - 7s 4ms/step - loss: 0.0745 - accuracy: 0.9752 - val_loss: 0.3874 - val_accuracy: 0.8899\n",
            "Epoch 47/50\n",
            "1563/1563 [==============================] - 6s 4ms/step - loss: 0.0731 - accuracy: 0.9754 - val_loss: 0.3882 - val_accuracy: 0.8929\n",
            "Epoch 48/50\n",
            "1563/1563 [==============================] - 6s 4ms/step - loss: 0.0728 - accuracy: 0.9754 - val_loss: 0.3773 - val_accuracy: 0.8948\n",
            "Epoch 49/50\n",
            "1563/1563 [==============================] - 6s 4ms/step - loss: 0.0725 - accuracy: 0.9758 - val_loss: 0.5212 - val_accuracy: 0.8577\n",
            "Epoch 50/50\n",
            "1563/1563 [==============================] - 6s 4ms/step - loss: 0.0687 - accuracy: 0.9775 - val_loss: 0.3747 - val_accuracy: 0.8952\n"
          ],
          "name": "stdout"
        }
      ]
    },
    {
      "cell_type": "code",
      "metadata": {
        "id": "qfi-SnFpvr0z",
        "colab_type": "code",
        "colab": {}
      },
      "source": [
        "import pandas as pd\n",
        "import matplotlib.pyplot as plt\n"
      ],
      "execution_count": 28,
      "outputs": []
    },
    {
      "cell_type": "code",
      "metadata": {
        "id": "6eKslDtZxw0V",
        "colab_type": "code",
        "colab": {
          "base_uri": "https://localhost:8080/",
          "height": 324
        },
        "outputId": "f41f5c8e-cd2f-4044-a3a2-bdfae64b7fb6"
      },
      "source": [
        "pd.DataFrame(history.history).plot(figsize=(8,5))\n",
        "plt.grid(True)\n",
        "plt.gca().set_ylim(0,1)\n",
        "plt.show()"
      ],
      "execution_count": 32,
      "outputs": [
        {
          "output_type": "display_data",
          "data": {
            "image/png": "[encoded data removed]",
            "text/plain": [
              "<Figure size 576x360 with 1 Axes>"
            ]
          },
          "metadata": {
            "tags": [],
            "needs_background": "light"
          }
        }
      ]
    },
    {
      "cell_type": "code",
      "metadata": {
        "id": "g636kQpOyM8X",
        "colab_type": "code",
        "colab": {
          "base_uri": "https://localhost:8080/",
          "height": 51
        },
        "outputId": "f26f1cbf-d5f8-4635-8b8f-aec32a8dbbce"
      },
      "source": [
        "model.evaluate(X_test, y_test)"
      ],
      "execution_count": 34,
      "outputs": [
        {
          "output_type": "stream",
          "text": [
            "313/313 [==============================] - 1s 3ms/step - loss: 3.5077 - accuracy: 0.1000\n"
          ],
          "name": "stdout"
        },
        {
          "output_type": "execute_result",
          "data": {
            "text/plain": [
              "[3.507737159729004, 0.10000000149011612]"
            ]
          },
          "metadata": {
            "tags": []
          },
          "execution_count": 34
        }
      ]
    },
    {
      "cell_type": "code",
      "metadata": {
        "id": "a8zw_Mn_0qqO",
        "colab_type": "code",
        "colab": {}
      },
      "source": [
        ""
      ],
      "execution_count": null,
      "outputs": []
    }
  ]
}